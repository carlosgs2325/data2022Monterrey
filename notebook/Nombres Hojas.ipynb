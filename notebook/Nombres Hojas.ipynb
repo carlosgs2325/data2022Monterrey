{
 "cells": [
  {
   "cell_type": "code",
   "execution_count": 4,
   "id": "d6c68a18-229d-4fb1-909f-996a49bf18ce",
   "metadata": {
    "editable": true,
    "slideshow": {
     "slide_type": ""
    },
    "tags": []
   },
   "outputs": [],
   "source": [
    "import pandas as pd"
   ]
  },
  {
   "cell_type": "code",
   "execution_count": 8,
   "id": "37a038b0-facb-40ec-8e7b-6bef63c25181",
   "metadata": {
    "editable": true,
    "slideshow": {
     "slide_type": ""
    },
    "tags": []
   },
   "outputs": [
    {
     "name": "stdout",
     "output_type": "stream",
     "text": [
      "Hojas en 01.xlsx: ['OB.PUBLICA-GTS VARIOS (FDO ESP)', 'GTS VARIOS', 'GTS REPRESENT', 'SERV PERS']\n",
      "Hojas en 02.xlsx: ['OB.PUBLICA-GTS VARIOS (FDO ESP)', 'GTS VARIOS', 'SERV PROF', 'SERV PERS']\n",
      "Hojas en 03.xlsx: ['OB.PUBLICA-GTS VARIOS (FDO ESP)', 'GTOS VARIOS', 'SERV.PROF.', 'COMUNICACION', 'GASTOS DE VIAJE', 'SERV PERS.']\n",
      "Hojas en 04.xlsx: ['OB.PUBLICA-GTS VARIOS (FDO ESP)', 'GTS VARIOS', 'SERV PROF', 'COMUNIC', 'GTS REPRESENT', 'SERV PERS']\n",
      "Hojas en 05.xlsx: ['OBRA PUBLICA Y GV FDOS. ESP', 'GTOS VARIOS', 'SERV PROF', 'COMUNICACION', 'GTS DE REPRE', 'SERV PERS']\n",
      "Hojas en 06.xlsx: ['OBRA PUBLICA Y GV FDOS. ESP', 'GASTOS VARIOS', 'SERV PROV', 'COMUNIC', 'GTOS REPRE', 'SERV PERS']\n",
      "Hojas en 07.xlsx: ['OBRA PUBLICA Y GV FDOS. ESP', 'GTOS VARIOS', 'SERV PROF', 'COMUNIC', 'GTS REPRESENT', 'SERV PERS']\n",
      "Hojas en 08.xlsx: ['OBRA PUBLICA Y GV FDOS. ESP', 'GTOS VARIOS', 'SERV PROF', 'COMUNIC', 'GTS REPRE', 'SERV PERS']\n",
      "Hojas en 09.xlsx: ['OBRA PUBLICA Y GV FDOS. ESP', 'GTOS VARIOS', 'SERV PROF', 'COMUNICACION', 'GTS REPRESENT', 'SERV PERS']\n",
      "Hojas en 10.xlsx: ['OBRA PUBLICA Y GV FDOS. ESP', 'GTS VARIOS', 'SERV PROF', 'COMUNICACION', 'GTS REPRESENT', 'SERV PERS']\n",
      "Hojas en 11.xlsx: ['OBRA PUBLICA Y GV FDOS. ESP', 'GTS VARIOS', 'SERV PROF', 'COMUNIC', 'GTS REPRE', 'SERV PERS']\n",
      "Hojas en 12.xlsx: ['OBRA PUBLICA Y GV FDOS. ESP', 'GTS VARIOS', 'SERV PROF', 'COMUNIC', 'GTS REPRE', 'SERV PERS']\n"
     ]
    }
   ],
   "source": [
    "# Lista de archivos de Excel\n",
    "archivos = [f'{i:02}.xlsx' for i in range(1, 13)]  # Genera '01.xlsx', '02.xlsx', ..., '12.xlsx'\n",
    "\n",
    "# Diccionario para almacenar los nombres de las hojas de cada archivo\n",
    "nombres_hojas_archivos = {}\n",
    "\n",
    "# Recorrer cada archivo\n",
    "for archivo in archivos:\n",
    "    try:\n",
    "        # Cargar el archivo de Excel\n",
    "        archivo_excel = pd.ExcelFile(archivo)\n",
    "        \n",
    "        # Extraer los nombres de las hojas\n",
    "        nombres_hojas = archivo_excel.sheet_names\n",
    "        \n",
    "        # Guardar los nombres de las hojas en el diccionario\n",
    "        nombres_hojas_archivos[archivo] = nombres_hojas\n",
    "        \n",
    "        # Mostrar los nombres de las hojas de cada archivo\n",
    "        print(f'Hojas en {archivo}: {nombres_hojas}')\n",
    "    \n",
    "    except Exception as e:\n",
    "        # En caso de error (archivo no encontrado o problema al leer)\n",
    "        print(f'Error procesando {archivo}: {e}')\n",
    "\n",
    "# Mostrar el diccionario con los nombres de las hojas de todos los archivos\n",
    "#print(nombres_hojas_archivos)\n"
   ]
  },
  {
   "cell_type": "code",
   "execution_count": null,
   "id": "69830cd9-19c0-438b-86fe-7920b6d40558",
   "metadata": {
    "editable": true,
    "slideshow": {
     "slide_type": ""
    },
    "tags": []
   },
   "outputs": [],
   "source": []
  }
 ],
 "metadata": {
  "kernelspec": {
   "display_name": "Python 3 (ipykernel)",
   "language": "python",
   "name": "python3"
  },
  "language_info": {
   "codemirror_mode": {
    "name": "ipython",
    "version": 3
   },
   "file_extension": ".py",
   "mimetype": "text/x-python",
   "name": "python",
   "nbconvert_exporter": "python",
   "pygments_lexer": "ipython3",
   "version": "3.11.7"
  }
 },
 "nbformat": 4,
 "nbformat_minor": 5
}
